{
 "cells": [
  {
   "cell_type": "code",
   "execution_count": 1,
   "id": "fbf40c6f-444c-497e-8cc1-b6aa247c82e6",
   "metadata": {},
   "outputs": [],
   "source": [
    "import torch\n",
    "import torch.nn as nn\n",
    "import torch.optim as optim\n",
    "import pandas as pd\n",
    "import numpy as np\n",
    "from sklearn.model_selection import train_test_split\n",
    "from sklearn.preprocessing import StandardScaler\n",
    "import matplotlib.pyplot as plt"
   ]
  },
  {
   "cell_type": "code",
   "execution_count": 2,
   "id": "744c7655-d72f-4f6b-a9a3-1df4f65d03d2",
   "metadata": {},
   "outputs": [],
   "source": [
    "# Load dataset\n",
    "url = \"1-bostonHousing.csv\"\n",
    "df = pd.read_csv(url)"
   ]
  },
  {
   "cell_type": "code",
   "execution_count": 3,
   "id": "a5d863ea-5e63-4ed6-b64c-cbb0d63eb032",
   "metadata": {},
   "outputs": [],
   "source": [
    "# Handle missing values\n",
    "df = df.fillna(df.mean())  # Fill missing values with mean"
   ]
  },
  {
   "cell_type": "code",
   "execution_count": 5,
   "id": "6c4b8fa1-83c7-46b5-b920-f01500d00d8c",
   "metadata": {
    "scrolled": true
   },
   "outputs": [
    {
     "data": {
      "text/plain": [
       "<bound method DataFrame.info of         CRIM    ZN  INDUS  CHAS    NOX     RM        AGE     DIS  RAD  TAX  \\\n",
       "0    0.00632  18.0   2.31   0.0  0.538  6.575  65.200000  4.0900    1  296   \n",
       "1    0.02731   0.0   7.07   0.0  0.469  6.421  78.900000  4.9671    2  242   \n",
       "2    0.02729   0.0   7.07   0.0  0.469  7.185  61.100000  4.9671    2  242   \n",
       "3    0.03237   0.0   2.18   0.0  0.458  6.998  45.800000  6.0622    3  222   \n",
       "4    0.06905   0.0   2.18   0.0  0.458  7.147  54.200000  6.0622    3  222   \n",
       "..       ...   ...    ...   ...    ...    ...        ...     ...  ...  ...   \n",
       "501  0.06263   0.0  11.93   0.0  0.573  6.593  69.100000  2.4786    1  273   \n",
       "502  0.04527   0.0  11.93   0.0  0.573  6.120  76.700000  2.2875    1  273   \n",
       "503  0.06076   0.0  11.93   0.0  0.573  6.976  91.000000  2.1675    1  273   \n",
       "504  0.10959   0.0  11.93   0.0  0.573  6.794  89.300000  2.3889    1  273   \n",
       "505  0.04741   0.0  11.93   0.0  0.573  6.030  68.518519  2.5050    1  273   \n",
       "\n",
       "     PTRATIO       B      LSTAT  MEDV  \n",
       "0       15.3  396.90   4.980000  24.0  \n",
       "1       17.8  396.90   9.140000  21.6  \n",
       "2       17.8  392.83   4.030000  34.7  \n",
       "3       18.7  394.63   2.940000  33.4  \n",
       "4       18.7  396.90  12.715432  36.2  \n",
       "..       ...     ...        ...   ...  \n",
       "501     21.0  391.99  12.715432  22.4  \n",
       "502     21.0  396.90   9.080000  20.6  \n",
       "503     21.0  396.90   5.640000  23.9  \n",
       "504     21.0  393.45   6.480000  22.0  \n",
       "505     21.0  396.90   7.880000  11.9  \n",
       "\n",
       "[506 rows x 14 columns]>"
      ]
     },
     "execution_count": 5,
     "metadata": {},
     "output_type": "execute_result"
    }
   ],
   "source": [
    "df.info"
   ]
  },
  {
   "cell_type": "code",
   "execution_count": 6,
   "id": "1b573477-5835-4ba9-84fb-d60003d018ea",
   "metadata": {},
   "outputs": [],
   "source": [
    "# Prepare features (X) and target (y) for Boston housing price prediction\n",
    "\"\"\"\n",
    "df: Your dataset, likely a pandas DataFrame containing Boston housing data.\n",
    ".drop(columns=[\"MEDV\"], axis=1): Removes the column MEDV from the DataFrame — \n",
    "this gives you only the features (like number of rooms, crime rate, etc.).\n",
    ".values: Converts the resulting DataFrame to a NumPy array (used for model input).\n",
    "X: Now contains the input features (independent variables).\n",
    "\"\"\"\n",
    "\n",
    "X = df.drop(columns=[\"MEDV\"], axis=1).values  # Features\n",
    "y = df[\"MEDV\"].values.reshape(-1, 1)           # Target"
   ]
  },
  {
   "cell_type": "code",
   "execution_count": 7,
   "id": "fbea0564-f89e-4f34-a93b-cd224274cc4c",
   "metadata": {},
   "outputs": [
    {
     "data": {
      "text/plain": [
       "\"\\n# train_test_split: Splits data into training and testing sets.\\n# X, y: Input features and target values.\\n# test_size=0.2: 20% of the data is used for testing, 80% for training.\\n# random_state=42: Ensures reproducibility of the split.\\n# X_train, y_train: Training data used to train the model.\\n# X_test, y_test: Testing data used to evaluate the model's performance.\\n\\n\""
      ]
     },
     "execution_count": 7,
     "metadata": {},
     "output_type": "execute_result"
    }
   ],
   "source": [
    "# Split dataset\n",
    "X_train, X_test, y_train, y_test = train_test_split(\n",
    "    X, y, test_size=0.2, random_state=42\n",
    ")\n",
    "\n",
    "\"\"\"\n",
    "# train_test_split: Splits data into training and testing sets.\n",
    "# X, y: Input features and target values.\n",
    "# test_size=0.2: 20% of the data is used for testing, 80% for training.\n",
    "# random_state=42: Ensures reproducibility of the split.\n",
    "# X_train, y_train: Training data used to train the model.\n",
    "# X_test, y_test: Testing data used to evaluate the model's performance.\n",
    "\n",
    "\"\"\""
   ]
  },
  {
   "cell_type": "code",
   "execution_count": 8,
   "id": "fdc0d6fb-006c-45b7-ae8a-1253f169be88",
   "metadata": {},
   "outputs": [],
   "source": [
    "# Normalize features and target\n",
    "scaler_X = StandardScaler()  # Scales input features to have mean=0 and std=1\n",
    "scaler_y = StandardScaler()  # Scales target values similarly for better model performance"
   ]
  },
  {
   "cell_type": "code",
   "execution_count": 9,
   "id": "52356211-ebd3-498f-8864-c72059645a47",
   "metadata": {},
   "outputs": [],
   "source": [
    "X_train = scaler_X.fit_transform(X_train)\n",
    "X_test = scaler_X.transform(X_test)\n",
    "y_train = scaler_y.fit_transform(y_train)\n",
    "y_test = scaler_y.transform(y_test) "
   ]
  },
  {
   "cell_type": "code",
   "execution_count": 10,
   "id": "d78e7eda-b588-4909-a060-fc3965587230",
   "metadata": {},
   "outputs": [],
   "source": [
    "X_train = scaler_X.fit_transform(X_train)  # Fit scaler on training features and transform them\n",
    "X_test = scaler_X.transform(X_test)        # Transform test features using the same scaler\n",
    "y_train = scaler_y.fit_transform(y_train)  # Fit scaler on training target and transform\n",
    "y_test = scaler_y.transform(y_test)        # Transform test target using the same scaler "
   ]
  },
  {
   "cell_type": "code",
   "execution_count": 11,
   "id": "6136e782-46de-4821-8bf0-c37ca65ecb8a",
   "metadata": {},
   "outputs": [
    {
     "name": "stdout",
     "output_type": "stream",
     "text": [
      "Epoch [50/500], Loss: 0.0712\n",
      "Epoch [100/500], Loss: 0.0374\n",
      "Epoch [150/500], Loss: 0.0245\n",
      "Epoch [200/500], Loss: 0.0172\n",
      "Epoch [250/500], Loss: 0.0140\n",
      "Epoch [300/500], Loss: 0.0111\n",
      "Epoch [350/500], Loss: 0.0083\n",
      "Epoch [400/500], Loss: 0.0078\n",
      "Epoch [450/500], Loss: 0.0067\n",
      "Epoch [500/500], Loss: 0.0060\n"
     ]
    }
   ],
   "source": [
    "import torch\n",
    "import torch.nn as nn\n",
    "import torch.optim as optim\n",
    "\n",
    "# Convert data to PyTorch tensors\n",
    "X_train_tensor = torch.tensor(X_train, dtype=torch.float32)\n",
    "y_train_tensor = torch.tensor(y_train, dtype=torch.float32)\n",
    "\n",
    "# Define DNN Model\n",
    "class DNNRegression(nn.Module):\n",
    "    def __init__(self):\n",
    "        super(DNNRegression, self).__init__()\n",
    "        self.hidden1 = nn.Linear(13, 64)  # Input layer to first hidden layer (13 features to 64 neurons)\n",
    "        self.hidden2 = nn.Linear(64, 32)  # First hidden layer to second hidden layer (64 to 32 neurons)\n",
    "        self.output = nn.Linear(32, 1)    # Second hidden layer to output (1 neuron for regression output)\n",
    "        self.relu = nn.ReLU()             # ReLU activation function\n",
    "\n",
    "    def forward(self, x):\n",
    "        x = self.relu(self.hidden1(x))    # Apply first layer + ReLU\n",
    "        x = self.relu(self.hidden2(x))    # Apply second layer + ReLU\n",
    "        x = self.output(x)                # Final output (no activation for regression)\n",
    "        return x\n",
    "\n",
    "# Initialize model, loss function, and optimizer\n",
    "model = DNNRegression()                  # Create model instance\n",
    "criterion = nn.MSELoss()                 # Mean Squared Error for regression loss\n",
    "optimizer = optim.Adam(model.parameters(), lr=0.01)  # Adam optimizer with learning rate 0.01\n",
    "\n",
    "# Training loop\n",
    "epochs = 500                             # Number of training epochs\n",
    "for epoch in range(epochs):\n",
    "    model.train()                        # Set model to training mode\n",
    "    optimizer.zero_grad()               # Clear previous gradients\n",
    "    outputs = model(X_train_tensor)     # Forward pass: get predictions\n",
    "    loss = criterion(outputs, y_train_tensor)  # Compute loss between predictions and true values\n",
    "    loss.backward()                     # Backpropagation: compute gradients\n",
    "    optimizer.step()                    # Update model weights\n",
    "\n",
    "    if (epoch + 1) % 50 == 0:\n",
    "        print(f'Epoch [{epoch+1}/{epochs}], Loss: {loss.item():.4f}')  # Print loss every 50 epochs\n"
   ]
  },
  {
   "cell_type": "code",
   "execution_count": 12,
   "id": "52fe8534-401d-44d8-b9ad-be38debe5e7f",
   "metadata": {},
   "outputs": [
    {
     "name": "stdout",
     "output_type": "stream",
     "text": [
      "Model saved successfully!\n",
      "Test Loss: 0.1168\n"
     ]
    }
   ],
   "source": [
    "# Convert test data to PyTorch tensors\n",
    "X_test_tensor = torch.tensor(X_test, dtype=torch.float32)\n",
    "y_test_tensor = torch.tensor(y_test, dtype=torch.float32)\n",
    "\n",
    "# Save the model\n",
    "torch.save(model.state_dict(), \"boston_dnn_model.pth\")  # Save model weights to a file\n",
    "print(\"Model saved successfully!\")\n",
    "\n",
    "# Evaluate model\n",
    "model.eval()                                # Set model to evaluation mode (disables dropout, etc.)\n",
    "with torch.no_grad():                       # Disable gradient computation for efficiency\n",
    "    y_pred = model(X_test_tensor)           # Make predictions on test data\n",
    "    test_loss = criterion(y_pred, y_test_tensor)  # Compute test loss (MSE)\n",
    "    print(f'Test Loss: {test_loss.item():.4f}')   # Print test loss value\n"
   ]
  },
  {
   "cell_type": "code",
   "execution_count": 13,
   "id": "20cc3b1d-8722-4d49-9bec-60ecf9051899",
   "metadata": {},
   "outputs": [],
   "source": [
    "# Convert predictions back to original scale\n",
    "y_pred_original = scaler_y.inverse_transform(y_pred.numpy())  # Convert predicted values back to original scale\n",
    "y_test_original = scaler_y.inverse_transform(y_test_tensor.numpy())  # Convert actual test values back to original scale\n"
   ]
  },
  {
   "cell_type": "code",
   "execution_count": 14,
   "id": "daf46560-977b-48e6-8fb5-eaf772f6fb7c",
   "metadata": {},
   "outputs": [
    {
     "data": {
      "image/png": "[encoded data removed]",
      "text/plain": [
       "<Figure size 800x600 with 1 Axes>"
      ]
     },
     "metadata": {},
     "output_type": "display_data"
    }
   ],
   "source": [
    "# Display results\n",
    "plt.figure(figsize=(8, 6))  # Create a figure with specified size\n",
    "plt.scatter(y_test_original, y_pred_original, alpha=0.7, color='blue')  # Scatter plot of actual vs predicted prices\n",
    "plt.plot(\n",
    "    [y_test_original.min(), y_test_original.max()],\n",
    "    [y_test_original.min(), y_test_original.max()],\n",
    "    color='red', linestyle='--', linewidth=2  # Red diagonal line representing perfect prediction\n",
    ")\n",
    "plt.xlabel(\"Actual Prices\")  # Label for the x-axis\n",
    "plt.ylabel(\"Predicted Prices\")  # Label for the y-axis\n",
    "plt.title(\"Boston Housing Price Prediction\")  # Title of the plot\n",
    "plt.grid(True)  # Display grid for better readability\n",
    "plt.show()  # Show the plot"
   ]
  },
  {
   "cell_type": "code",
   "execution_count": null,
   "id": "426321f8-6122-4467-b3c3-17fdb26dde4a",
   "metadata": {},
   "outputs": [],
   "source": []
  }
 ],
 "metadata": {
  "kernelspec": {
   "display_name": "Python 3 (ipykernel)",
   "language": "python",
   "name": "python3"
  },
  "language_info": {
   "codemirror_mode": {
    "name": "ipython",
    "version": 3
   },
   "file_extension": ".py",
   "mimetype": "text/x-python",
   "name": "python",
   "nbconvert_exporter": "python",
   "pygments_lexer": "ipython3",
   "version": "3.9.6"
  }
 },
 "nbformat": 4,
 "nbformat_minor": 5
}
