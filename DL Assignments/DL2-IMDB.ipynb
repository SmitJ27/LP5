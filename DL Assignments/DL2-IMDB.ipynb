{
 "cells": [
  {
   "cell_type": "code",
   "execution_count": 1,
   "id": "ec4400e8-5a7a-4abb-956c-9b0dbd9f155f",
   "metadata": {},
   "outputs": [
    {
     "data": {
      "text/plain": [
       "'3.9.2'"
      ]
     },
     "execution_count": 1,
     "metadata": {},
     "output_type": "execute_result"
    }
   ],
   "source": [
    "import keras\n",
    "keras.__version__"
   ]
  },
  {
   "cell_type": "code",
   "execution_count": 2,
   "id": "b1724e14-0f2e-4293-92f8-da35862e7a39",
   "metadata": {},
   "outputs": [],
   "source": [
    "from keras.datasets import imdb  # Import the IMDB dataset from Keras\n",
    "\n",
    "# Load the IMDB dataset, limiting to the top 10,000 most frequent words\n",
    "# train_data, train_labels: Training data and labels\n",
    "# test_data, test_labels: Test data and labels\n",
    "(train_data, train_labels), (test_data, test_labels) = imdb.load_data(num_words=10000)\n",
    "\n",
    "# train_data: Lists of integers representing the words in each movie review in the training set\n",
    "# train_labels: Corresponding binary labels for each review (1 for positive, 0 for negative)\n",
    "# test_data: Lists of integers representing the words in each movie review in the test set\n",
    "# test_labels: Corresponding binary labels for each review in the test set\n"
   ]
  },
  {
   "cell_type": "code",
   "execution_count": 3,
   "id": "428abcd8-dd25-468b-9048-3bcf3d7f877f",
   "metadata": {},
   "outputs": [
    {
     "data": {
      "text/plain": [
       "[1,\n",
       " 14,\n",
       " 22,\n",
       " 16,\n",
       " 43,\n",
       " 530,\n",
       " 973,\n",
       " 1622,\n",
       " 1385,\n",
       " 65,\n",
       " 458,\n",
       " 4468,\n",
       " 66,\n",
       " 3941,\n",
       " 4,\n",
       " 173,\n",
       " 36,\n",
       " 256,\n",
       " 5,\n",
       " 25,\n",
       " 100,\n",
       " 43,\n",
       " 838,\n",
       " 112,\n",
       " 50,\n",
       " 670,\n",
       " 2,\n",
       " 9,\n",
       " 35,\n",
       " 480,\n",
       " 284,\n",
       " 5,\n",
       " 150,\n",
       " 4,\n",
       " 172,\n",
       " 112,\n",
       " 167,\n",
       " 2,\n",
       " 336,\n",
       " 385,\n",
       " 39,\n",
       " 4,\n",
       " 172,\n",
       " 4536,\n",
       " 1111,\n",
       " 17,\n",
       " 546,\n",
       " 38,\n",
       " 13,\n",
       " 447,\n",
       " 4,\n",
       " 192,\n",
       " 50,\n",
       " 16,\n",
       " 6,\n",
       " 147,\n",
       " 2025,\n",
       " 19,\n",
       " 14,\n",
       " 22,\n",
       " 4,\n",
       " 1920,\n",
       " 4613,\n",
       " 469,\n",
       " 4,\n",
       " 22,\n",
       " 71,\n",
       " 87,\n",
       " 12,\n",
       " 16,\n",
       " 43,\n",
       " 530,\n",
       " 38,\n",
       " 76,\n",
       " 15,\n",
       " 13,\n",
       " 1247,\n",
       " 4,\n",
       " 22,\n",
       " 17,\n",
       " 515,\n",
       " 17,\n",
       " 12,\n",
       " 16,\n",
       " 626,\n",
       " 18,\n",
       " 2,\n",
       " 5,\n",
       " 62,\n",
       " 386,\n",
       " 12,\n",
       " 8,\n",
       " 316,\n",
       " 8,\n",
       " 106,\n",
       " 5,\n",
       " 4,\n",
       " 2223,\n",
       " 5244,\n",
       " 16,\n",
       " 480,\n",
       " 66,\n",
       " 3785,\n",
       " 33,\n",
       " 4,\n",
       " 130,\n",
       " 12,\n",
       " 16,\n",
       " 38,\n",
       " 619,\n",
       " 5,\n",
       " 25,\n",
       " 124,\n",
       " 51,\n",
       " 36,\n",
       " 135,\n",
       " 48,\n",
       " 25,\n",
       " 1415,\n",
       " 33,\n",
       " 6,\n",
       " 22,\n",
       " 12,\n",
       " 215,\n",
       " 28,\n",
       " 77,\n",
       " 52,\n",
       " 5,\n",
       " 14,\n",
       " 407,\n",
       " 16,\n",
       " 82,\n",
       " 2,\n",
       " 8,\n",
       " 4,\n",
       " 107,\n",
       " 117,\n",
       " 5952,\n",
       " 15,\n",
       " 256,\n",
       " 4,\n",
       " 2,\n",
       " 7,\n",
       " 3766,\n",
       " 5,\n",
       " 723,\n",
       " 36,\n",
       " 71,\n",
       " 43,\n",
       " 530,\n",
       " 476,\n",
       " 26,\n",
       " 400,\n",
       " 317,\n",
       " 46,\n",
       " 7,\n",
       " 4,\n",
       " 2,\n",
       " 1029,\n",
       " 13,\n",
       " 104,\n",
       " 88,\n",
       " 4,\n",
       " 381,\n",
       " 15,\n",
       " 297,\n",
       " 98,\n",
       " 32,\n",
       " 2071,\n",
       " 56,\n",
       " 26,\n",
       " 141,\n",
       " 6,\n",
       " 194,\n",
       " 7486,\n",
       " 18,\n",
       " 4,\n",
       " 226,\n",
       " 22,\n",
       " 21,\n",
       " 134,\n",
       " 476,\n",
       " 26,\n",
       " 480,\n",
       " 5,\n",
       " 144,\n",
       " 30,\n",
       " 5535,\n",
       " 18,\n",
       " 51,\n",
       " 36,\n",
       " 28,\n",
       " 224,\n",
       " 92,\n",
       " 25,\n",
       " 104,\n",
       " 4,\n",
       " 226,\n",
       " 65,\n",
       " 16,\n",
       " 38,\n",
       " 1334,\n",
       " 88,\n",
       " 12,\n",
       " 16,\n",
       " 283,\n",
       " 5,\n",
       " 16,\n",
       " 4472,\n",
       " 113,\n",
       " 103,\n",
       " 32,\n",
       " 15,\n",
       " 16,\n",
       " 5345,\n",
       " 19,\n",
       " 178,\n",
       " 32]"
      ]
     },
     "execution_count": 3,
     "metadata": {},
     "output_type": "execute_result"
    }
   ],
   "source": [
    "train_data[0] "
   ]
  },
  {
   "cell_type": "code",
   "execution_count": 4,
   "id": "f901a63c-f6f8-4d12-a991-2aceb4d92794",
   "metadata": {},
   "outputs": [
    {
     "data": {
      "text/plain": [
       "np.int64(1)"
      ]
     },
     "execution_count": 4,
     "metadata": {},
     "output_type": "execute_result"
    }
   ],
   "source": [
    "train_labels[0]"
   ]
  },
  {
   "cell_type": "code",
   "execution_count": 5,
   "id": "33104116-e108-42b5-99de-aeccff7b1adb",
   "metadata": {},
   "outputs": [
    {
     "data": {
      "text/plain": [
       "9999"
      ]
     },
     "execution_count": 5,
     "metadata": {},
     "output_type": "execute_result"
    }
   ],
   "source": [
    "# Find the highest integer value (word index) in the training data sequences\n",
    "# This gives us the index of the most frequent word in the dataset (within the top 10,000 words)\n",
    "\n",
    "max([max(sequence) for sequence in train_data])\n",
    " # Max word index in the entire training data"
   ]
  },
  {
   "cell_type": "code",
   "execution_count": 6,
   "id": "512272db-8eb8-47b7-bbaa-45617becac84",
   "metadata": {},
   "outputs": [
    {
     "name": "stdout",
     "output_type": "stream",
     "text": [
      "? this film was just brilliant casting location scenery story direction everyone's really suited the part they played and you could just imagine being there robert ? is an amazing actor and now the same being director ? father came from the same scottish island as myself so i loved the fact there was a real connection with this film the witty remarks throughout the film were great it was just brilliant so much that i bought the film as soon as it was released for ? and would recommend it to everyone to watch and the fly fishing was amazing really cried at the end it was so sad and you know what they say if you cry at a film it must have been good and this definitely was also ? to the two little boy's that played the ? of norman and paul they were just brilliant children are often left out of the ? list i think because the stars that play them all grown up are such a big profile for the whole film but these children are amazing and should be praised for what they have done don't you think the whole story was so lovely because it was true and was someone's life after all that was shared with us all\n"
     ]
    }
   ],
   "source": [
    "# word_index is a dictionary mapping words to an integer index\n",
    "word_index = imdb.get_word_index()\n",
    "\n",
    "# We reverse it, mapping integer indices to words\n",
    "reverse_word_index = dict([(value, key) for (key, value) in word_index.items()])\n",
    "\n",
    "# We decode the first review; note that indices are offset by 3\n",
    "# because 0, 1, and 2 are reserved: \"padding\", \"start of sequence\", \"unknown\"\n",
    "decoded_review = ' '.join([reverse_word_index.get(i - 3, '?') for i in train_data[0]])\n",
    "\n",
    "print(decoded_review) "
   ]
  },
  {
   "cell_type": "code",
   "execution_count": 7,
   "id": "b882078c-afe5-4431-a4d6-d2a7d6e63617",
   "metadata": {},
   "outputs": [
    {
     "data": {
      "text/plain": [
       "\"? this film was just brilliant casting location scenery story direction everyone's really suited the part they played and you could just imagine being there robert ? is an amazing actor and now the same being director ? father came from the same scottish island as myself so i loved the fact there was a real connection with this film the witty remarks throughout the film were great it was just brilliant so much that i bought the film as soon as it was released for ? and would recommend it to everyone to watch and the fly fishing was amazing really cried at the end it was so sad and you know what they say if you cry at a film it must have been good and this definitely was also ? to the two little boy's that played the ? of norman and paul they were just brilliant children are often left out of the ? list i think because the stars that play them all grown up are such a big profile for the whole film but these children are amazing and should be praised for what they have done don't you think the whole story was so lovely because it was true and was someone's life after all that was shared with us all\""
      ]
     },
     "execution_count": 7,
     "metadata": {},
     "output_type": "execute_result"
    }
   ],
   "source": [
    "decoded_review "
   ]
  },
  {
   "cell_type": "code",
   "execution_count": 8,
   "id": "7433e1d5-32b1-4ba0-8184-2de128fa4574",
   "metadata": {},
   "outputs": [],
   "source": [
    "import numpy as np  # Importing numpy for array operations\n",
    "\n",
    "# Function to vectorize sequences of word indices\n",
    "def vectorize_sequences(sequences, dimension=10000):\n",
    "    # Create an all-zero matrix of shape (len(sequences), dimension)\n",
    "    # Each row corresponds to a review, and the 'dimension' is the total number of words in the vocabulary (10000 in this case)\n",
    "    results = np.zeros((len(sequences), dimension))  \n",
    "    \n",
    "    for i, sequence in enumerate(sequences):\n",
    "        # Set specific indices of results[i] to 1 based on the word indices in the sequence\n",
    "        # If sequence contains word index 1, the 1st index of results[i] is set to 1, and so on for each word in the sequence\n",
    "        results[i, sequence] = 1.  \n",
    "    \n",
    "    return results\n",
    "\n",
    "# Vectorize training and test data (convert word indices to binary vectors)\n",
    "x_train = vectorize_sequences(train_data)  # Convert the training data into binary vectors\n",
    "x_test = vectorize_sequences(test_data)    # Convert the test data into binary vectors\n",
    "\n",
    "# Convert labels (sentiment labels) to float32 numpy arrays for compatibility with neural network\n",
    "y_train = np.asarray(train_labels).astype('float32')  # Convert train labels to float32 type\n",
    "y_test = np.asarray(test_labels).astype('float32')    # Convert test labels to float32 type\n"
   ]
  },
  {
   "cell_type": "code",
   "execution_count": 9,
   "id": "2ee8b1e9-61bc-4e6a-b037-2993020ae25c",
   "metadata": {},
   "outputs": [
    {
     "data": {
      "text/plain": [
       "array([0., 1., 1., ..., 0., 0., 0.])"
      ]
     },
     "execution_count": 9,
     "metadata": {},
     "output_type": "execute_result"
    }
   ],
   "source": [
    "x_train[0] "
   ]
  },
  {
   "cell_type": "code",
   "execution_count": 10,
   "id": "c6b9d85c-3277-4a35-87b5-69d284d03fd6",
   "metadata": {},
   "outputs": [],
   "source": [
    "# Convert labels (sentiment labels for training and test data) into float32 numpy arrays for model compatibility\n",
    "y_train = np.asarray(train_labels).astype('float32')  # Convert the training labels to float32 type\n",
    "y_test = np.asarray(test_labels).astype('float32')    # Convert the test labels to float32 type"
   ]
  },
  {
   "cell_type": "code",
   "execution_count": 11,
   "id": "1c681629-8e80-4119-8565-90769f50caca",
   "metadata": {},
   "outputs": [],
   "source": [
    "from keras.models import Sequential  # Import Sequential model from Keras\n",
    "from keras.layers import Dense, Input  # Import Dense and Input layers from Keras\n",
    "\n",
    "# Define the model using the Sequential API\n",
    "model = Sequential([\n",
    "    # Input layer: Specifies the input shape for the model (10000 features, one for each word in the vectorized review)\n",
    "    Input(shape=(10000,)),  # Input layer with 10000 features (for each word index in the review)\n",
    "\n",
    "    # First hidden layer: A fully connected layer with 64 units and ReLU activation\n",
    "    Dense(64, activation='relu'),  # Dense layer with 64 units and ReLU activation\n",
    "\n",
    "    # Output layer: A single unit (since we're doing binary classification), with sigmoid activation\n",
    "    Dense(1, activation='sigmoid')  # Output layer with a sigmoid activation (outputs a probability)\n",
    "])\n"
   ]
  },
  {
   "cell_type": "code",
   "execution_count": 12,
   "id": "2eaffd53-32d2-40fc-82ba-95a76dfebc46",
   "metadata": {},
   "outputs": [],
   "source": [
    "# Compile the model with optimizer, loss function, and evaluation metrics\n",
    "model.compile(\n",
    "    optimizer='rmsprop',                  # Optimizer used to minimize the loss function (RMSprop is commonly used for deep learning)\n",
    "    loss='binary_crossentropy',           # Loss function for binary classification (binary crossentropy measures the error between predicted and actual binary labels)\n",
    "    metrics=['accuracy']                  # Evaluation metric to track model's performance (accuracy in this case)\n",
    ")\n"
   ]
  },
  {
   "cell_type": "code",
   "execution_count": 13,
   "id": "6419ef08-2667-4d75-83d9-26489586fb36",
   "metadata": {},
   "outputs": [],
   "source": [
    "from keras import optimizers  # Import the optimizers module from Keras\n",
    "\n",
    "# Compile the model with a custom RMSprop optimizer, loss function, and evaluation metrics\n",
    "model.compile(\n",
    "    optimizer=optimizers.RMSprop(learning_rate=0.001),  # RMSprop optimizer with a custom learning rate (0.001)\n",
    "    loss='binary_crossentropy',                          # Binary crossentropy loss for binary classification\n",
    "    metrics=['accuracy']                                 # Track accuracy during training and evaluation\n",
    ")\n"
   ]
  },
  {
   "cell_type": "code",
   "execution_count": 14,
   "id": "a50cf79d-a6bf-4917-bea4-230650be9f30",
   "metadata": {},
   "outputs": [],
   "source": [
    "from keras import optimizers\n",
    "from keras import losses\n",
    "from keras import metrics\n",
    "\n",
    "model.compile(optimizer=optimizers.RMSprop(learning_rate=0.001),\n",
    "              loss=losses.binary_crossentropy,\n",
    "              metrics=[metrics.binary_accuracy])\n",
    "\n",
    "# Compile model using explicit modules: RMSprop optimizer with custom learning rate,\n",
    "# binary_crossentropy loss, and binary_accuracy as the evaluation metric\n"
   ]
  },
  {
   "cell_type": "code",
   "execution_count": 15,
   "id": "f23b613f-8a43-42f7-a56c-930823c59a5b",
   "metadata": {},
   "outputs": [],
   "source": [
    "x_val = x_train[:10000]\n",
    "partial_x_train = x_train[10000:]\n",
    "y_val = y_train[:10000]\n",
    "partial_y_train = y_train[10000:]\n",
    "\n",
    "# Split training data into partial training set and validation set (10,000 samples for validation)\n"
   ]
  },
  {
   "cell_type": "code",
   "execution_count": 16,
   "id": "c41e9294-f94b-4439-8ae3-a3559361c582",
   "metadata": {},
   "outputs": [
    {
     "name": "stdout",
     "output_type": "stream",
     "text": [
      "Epoch 1/20\n",
      "\u001b[1m30/30\u001b[0m \u001b[32m━━━━━━━━━━━━━━━━━━━━\u001b[0m\u001b[37m\u001b[0m \u001b[1m2s\u001b[0m 37ms/step - binary_accuracy: 0.7072 - loss: 0.5715 - val_binary_accuracy: 0.8407 - val_loss: 0.3861\n",
      "Epoch 2/20\n",
      "\u001b[1m30/30\u001b[0m \u001b[32m━━━━━━━━━━━━━━━━━━━━\u001b[0m\u001b[37m\u001b[0m \u001b[1m1s\u001b[0m 15ms/step - binary_accuracy: 0.8906 - loss: 0.3129 - val_binary_accuracy: 0.8880 - val_loss: 0.2955\n",
      "Epoch 3/20\n",
      "\u001b[1m30/30\u001b[0m \u001b[32m━━━━━━━━━━━━━━━━━━━━\u001b[0m\u001b[37m\u001b[0m \u001b[1m1s\u001b[0m 15ms/step - binary_accuracy: 0.9243 - loss: 0.2338 - val_binary_accuracy: 0.8743 - val_loss: 0.3055\n",
      "Epoch 4/20\n",
      "\u001b[1m30/30\u001b[0m \u001b[32m━━━━━━━━━━━━━━━━━━━━\u001b[0m\u001b[37m\u001b[0m \u001b[1m1s\u001b[0m 14ms/step - binary_accuracy: 0.9326 - loss: 0.1982 - val_binary_accuracy: 0.8892 - val_loss: 0.2731\n",
      "Epoch 5/20\n",
      "\u001b[1m30/30\u001b[0m \u001b[32m━━━━━━━━━━━━━━━━━━━━\u001b[0m\u001b[37m\u001b[0m \u001b[1m1s\u001b[0m 14ms/step - binary_accuracy: 0.9441 - loss: 0.1696 - val_binary_accuracy: 0.8864 - val_loss: 0.2804\n",
      "Epoch 6/20\n",
      "\u001b[1m30/30\u001b[0m \u001b[32m━━━━━━━━━━━━━━━━━━━━\u001b[0m\u001b[37m\u001b[0m \u001b[1m1s\u001b[0m 14ms/step - binary_accuracy: 0.9520 - loss: 0.1513 - val_binary_accuracy: 0.8851 - val_loss: 0.2791\n",
      "Epoch 7/20\n",
      "\u001b[1m30/30\u001b[0m \u001b[32m━━━━━━━━━━━━━━━━━━━━\u001b[0m\u001b[37m\u001b[0m \u001b[1m1s\u001b[0m 15ms/step - binary_accuracy: 0.9568 - loss: 0.1378 - val_binary_accuracy: 0.8564 - val_loss: 0.3680\n",
      "Epoch 8/20\n",
      "\u001b[1m30/30\u001b[0m \u001b[32m━━━━━━━━━━━━━━━━━━━━\u001b[0m\u001b[37m\u001b[0m \u001b[1m1s\u001b[0m 14ms/step - binary_accuracy: 0.9610 - loss: 0.1267 - val_binary_accuracy: 0.8722 - val_loss: 0.3389\n",
      "Epoch 9/20\n",
      "\u001b[1m30/30\u001b[0m \u001b[32m━━━━━━━━━━━━━━━━━━━━\u001b[0m\u001b[37m\u001b[0m \u001b[1m1s\u001b[0m 15ms/step - binary_accuracy: 0.9606 - loss: 0.1210 - val_binary_accuracy: 0.8818 - val_loss: 0.3073\n",
      "Epoch 10/20\n",
      "\u001b[1m30/30\u001b[0m \u001b[32m━━━━━━━━━━━━━━━━━━━━\u001b[0m\u001b[37m\u001b[0m \u001b[1m1s\u001b[0m 14ms/step - binary_accuracy: 0.9720 - loss: 0.1010 - val_binary_accuracy: 0.8827 - val_loss: 0.3174\n",
      "Epoch 11/20\n",
      "\u001b[1m30/30\u001b[0m \u001b[32m━━━━━━━━━━━━━━━━━━━━\u001b[0m\u001b[37m\u001b[0m \u001b[1m1s\u001b[0m 15ms/step - binary_accuracy: 0.9726 - loss: 0.0931 - val_binary_accuracy: 0.8813 - val_loss: 0.3173\n",
      "Epoch 12/20\n",
      "\u001b[1m30/30\u001b[0m \u001b[32m━━━━━━━━━━━━━━━━━━━━\u001b[0m\u001b[37m\u001b[0m \u001b[1m1s\u001b[0m 14ms/step - binary_accuracy: 0.9774 - loss: 0.0841 - val_binary_accuracy: 0.8807 - val_loss: 0.3263\n",
      "Epoch 13/20\n",
      "\u001b[1m30/30\u001b[0m \u001b[32m━━━━━━━━━━━━━━━━━━━━\u001b[0m\u001b[37m\u001b[0m \u001b[1m1s\u001b[0m 15ms/step - binary_accuracy: 0.9823 - loss: 0.0711 - val_binary_accuracy: 0.8787 - val_loss: 0.3362\n",
      "Epoch 14/20\n",
      "\u001b[1m30/30\u001b[0m \u001b[32m━━━━━━━━━━━━━━━━━━━━\u001b[0m\u001b[37m\u001b[0m \u001b[1m0s\u001b[0m 14ms/step - binary_accuracy: 0.9848 - loss: 0.0686 - val_binary_accuracy: 0.8754 - val_loss: 0.3564\n",
      "Epoch 15/20\n",
      "\u001b[1m30/30\u001b[0m \u001b[32m━━━━━━━━━━━━━━━━━━━━\u001b[0m\u001b[37m\u001b[0m \u001b[1m1s\u001b[0m 15ms/step - binary_accuracy: 0.9863 - loss: 0.0624 - val_binary_accuracy: 0.8731 - val_loss: 0.3942\n",
      "Epoch 16/20\n",
      "\u001b[1m30/30\u001b[0m \u001b[32m━━━━━━━━━━━━━━━━━━━━\u001b[0m\u001b[37m\u001b[0m \u001b[1m0s\u001b[0m 14ms/step - binary_accuracy: 0.9839 - loss: 0.0656 - val_binary_accuracy: 0.8758 - val_loss: 0.3674\n",
      "Epoch 17/20\n",
      "\u001b[1m30/30\u001b[0m \u001b[32m━━━━━━━━━━━━━━━━━━━━\u001b[0m\u001b[37m\u001b[0m \u001b[1m1s\u001b[0m 14ms/step - binary_accuracy: 0.9894 - loss: 0.0517 - val_binary_accuracy: 0.8716 - val_loss: 0.3931\n",
      "Epoch 18/20\n",
      "\u001b[1m30/30\u001b[0m \u001b[32m━━━━━━━━━━━━━━━━━━━━\u001b[0m\u001b[37m\u001b[0m \u001b[1m1s\u001b[0m 15ms/step - binary_accuracy: 0.9909 - loss: 0.0492 - val_binary_accuracy: 0.8763 - val_loss: 0.3980\n",
      "Epoch 19/20\n",
      "\u001b[1m30/30\u001b[0m \u001b[32m━━━━━━━━━━━━━━━━━━━━\u001b[0m\u001b[37m\u001b[0m \u001b[1m1s\u001b[0m 14ms/step - binary_accuracy: 0.9905 - loss: 0.0442 - val_binary_accuracy: 0.8758 - val_loss: 0.4037\n",
      "Epoch 20/20\n",
      "\u001b[1m30/30\u001b[0m \u001b[32m━━━━━━━━━━━━━━━━━━━━\u001b[0m\u001b[37m\u001b[0m \u001b[1m0s\u001b[0m 14ms/step - binary_accuracy: 0.9945 - loss: 0.0395 - val_binary_accuracy: 0.8630 - val_loss: 0.4603\n"
     ]
    }
   ],
   "source": [
    "history = model.fit(partial_x_train,\n",
    " partial_y_train,\n",
    "epochs=20,\n",
    "batch_size=512,\n",
    "validation_data=(x_val, y_val))\n",
    "\n",
    "# Train the model for 20 epochs with batch size 512, using validation data to monitor performance"
   ]
  },
  {
   "cell_type": "code",
   "execution_count": 17,
   "id": "04f745b1-65e9-49e7-8e04-47f36a9bb267",
   "metadata": {},
   "outputs": [
    {
     "data": {
      "text/plain": [
       "dict_keys(['binary_accuracy', 'loss', 'val_binary_accuracy', 'val_loss'])"
      ]
     },
     "execution_count": 17,
     "metadata": {},
     "output_type": "execute_result"
    }
   ],
   "source": [
    "history_dict = history.history\n",
    "history_dict.keys()\n",
    "\n",
    "# Extract training history as a dictionary; keys include 'loss', 'val_loss', 'binary_accuracy', etc."
   ]
  },
  {
   "cell_type": "code",
   "execution_count": 18,
   "id": "87aaf3d3-9c3a-4ff3-975a-9b06fa09350e",
   "metadata": {},
   "outputs": [
    {
     "name": "stdout",
     "output_type": "stream",
     "text": [
      "dict_keys(['binary_accuracy', 'loss', 'val_binary_accuracy', 'val_loss'])\n"
     ]
    }
   ],
   "source": [
    "print(history.history.keys())"
   ]
  },
  {
   "cell_type": "code",
   "execution_count": 19,
   "id": "6eecc7d9-c894-48de-baf5-57d8d05bf737",
   "metadata": {},
   "outputs": [
    {
     "data": {
      "image/png": "[encoded data removed]",
      "text/plain": [
       "<Figure size 640x480 with 1 Axes>"
      ]
     },
     "metadata": {},
     "output_type": "display_data"
    },
    {
     "data": {
      "image/png": "[encoded data removed]",
      "text/plain": [
       "<Figure size 640x480 with 1 Axes>"
      ]
     },
     "metadata": {},
     "output_type": "display_data"
    }
   ],
   "source": [
    "import matplotlib.pyplot as plt\n",
    "# Assuming you've checked history.keys() and found correct metric names\n",
    "acc = history.history['binary_accuracy']\n",
    "val_acc = history.history['val_binary_accuracy']\n",
    "loss = history.history['loss']\n",
    "val_loss = history.history['val_loss']\n",
    "# Plotting training and validation accuracy\n",
    "plt.plot(acc, label='Training Accuracy')\n",
    "plt.plot(val_acc, label='Validation Accuracy')\n",
    "plt.xlabel('Epochs')\n",
    "plt.ylabel('Accuracy')\n",
    "plt.legend()\n",
    "plt.show()\n",
    "# Plotting training and validation loss\n",
    "plt.plot(loss, label='Training Loss')\n",
    "plt.plot(val_loss, label='Validation Loss')\n",
    "plt.xlabel('Epochs')\n",
    "plt.ylabel('Loss')\n",
    "plt.legend()\n",
    "plt.show() "
   ]
  },
  {
   "cell_type": "code",
   "execution_count": 20,
   "id": "428e114c-f71c-4aa9-9ac7-326b942f15bb",
   "metadata": {},
   "outputs": [
    {
     "data": {
      "image/png": "[encoded data removed]",
      "text/plain": [
       "<Figure size 640x480 with 1 Axes>"
      ]
     },
     "metadata": {},
     "output_type": "display_data"
    },
    {
     "data": {
      "image/png": "[encoded data removed]",
      "text/plain": [
       "<Figure size 640x480 with 1 Axes>"
      ]
     },
     "metadata": {},
     "output_type": "display_data"
    }
   ],
   "source": [
    "# Extracting the correct values from the history\n",
    "history_dict = history.history\n",
    "acc_values = history_dict['binary_accuracy']\n",
    "val_acc_values = history_dict['val_binary_accuracy']\n",
    "loss_values = history_dict['loss']\n",
    "val_loss_values = history_dict['val_loss']\n",
    "\n",
    "# Number of epochs\n",
    "epochs = range(1, len(acc_values) + 1)  # Epochs are indexed starting from 1\n",
    "\n",
    "# Plotting training and validation accuracy  \n",
    "plt.plot(epochs, acc_values, 'bo', label='Training Accuracy')  # 'bo' means blue dots\n",
    "plt.plot(epochs, val_acc_values, 'b', label='Validation Accuracy')  # 'b' means solid blue line\n",
    "plt.title('Training and Validation Accuracy')\n",
    "plt.xlabel('Epochs')\n",
    "plt.ylabel('Accuracy')\n",
    "plt.legend()\n",
    "plt.show()\n",
    "\n",
    "# Plotting training and validation loss\n",
    "plt.plot(epochs, loss_values, 'bo', label='Training Loss')\n",
    "plt.plot(epochs, val_loss_values, 'b', label='Validation Loss')\n",
    "plt.title('Training and Validation Loss')\n",
    "plt.xlabel('Epochs')\n",
    "plt.ylabel('Loss')\n",
    "plt.legend()\n",
    "plt.show() "
   ]
  },
  {
   "cell_type": "code",
   "execution_count": 21,
   "id": "8bf444e7-810a-4a08-a007-68886e33a148",
   "metadata": {},
   "outputs": [
    {
     "name": "stdout",
     "output_type": "stream",
     "text": [
      "\u001b[1m782/782\u001b[0m \u001b[32m━━━━━━━━━━━━━━━━━━━━\u001b[0m\u001b[37m\u001b[0m \u001b[1m1s\u001b[0m 1ms/step\n"
     ]
    },
    {
     "data": {
      "text/plain": [
       "array([[0.03470496],\n",
       "       [0.99998134],\n",
       "       [0.19330782],\n",
       "       ...,\n",
       "       [0.004739  ],\n",
       "       [0.01000842],\n",
       "       [0.7461127 ]], dtype=float32)"
      ]
     },
     "execution_count": 21,
     "metadata": {},
     "output_type": "execute_result"
    }
   ],
   "source": [
    "model.predict(x_test) "
   ]
  }
 ],
 "metadata": {
  "kernelspec": {
   "display_name": "Python 3 (ipykernel)",
   "language": "python",
   "name": "python3"
  },
  "language_info": {
   "codemirror_mode": {
    "name": "ipython",
    "version": 3
   },
   "file_extension": ".py",
   "mimetype": "text/x-python",
   "name": "python",
   "nbconvert_exporter": "python",
   "pygments_lexer": "ipython3",
   "version": "3.9.6"
  }
 },
 "nbformat": 4,
 "nbformat_minor": 5
}
